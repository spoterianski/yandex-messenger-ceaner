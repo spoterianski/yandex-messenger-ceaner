{
 "cells": [
  {
   "cell_type": "markdown",
   "id": "edbeb63a-6aaf-42fa-926a-9dde47076bee",
   "metadata": {},
   "source": [
    "# Yandex messenger cleaner\n",
    "\n",
    "В компании для общения используем Яндекс.Телемост и Яндекс.Мессенджер.\n",
    "\n",
    "Практически любой созвон в Яндекс.Телемост создает отдельный чат в Яндекс.Мессенджер, со временем их накапливается очень много и начинает все тормозить.\n",
    "\n",
    "Удобство и красоту обоих продуктов я оставлю за рамками ;\n",
    "\n",
    "В данном ноутбуке описана методика удаления чатов созданных во время встреч - они часто пыстые или содержат временную информацию\n",
    "\n",
    "__ВНИМАНИЕ! Перед удалением - убедитесь, что вы сохранили необходимую информацию из чатов__"
   ]
  },
  {
   "cell_type": "markdown",
   "id": "d478b8be-9568-4c50-8d45-393ecaa290e6",
   "metadata": {},
   "source": [
    "## Поиск списка чатов\n",
    "\n",
    "1. открываем в Chrome Яндекс.Мессенджер\n",
    "2. открываем Инструменты разработчика, выбираем вкладку Network\n",
    "3. выставляем галки `Preserve log`, `Disable cache`\n",
    "4. перезагружаем страницу с Яндекс.Мессенджер\n",
    "5. в списке запросов ищем что то типа: `websocket?....`, если гнянуть на URL: `wss://push.yandex.ru/v2/subscribe/websocket?service=messenger-prod%3Aversion5*common%2Bversion5*main&session=....`\n",
    "6. видим обмен сообщениями по websocket\n",
    "    -  нам нужно повторяющееся самое большое по размеру сообщение, у меня около 260кб\n",
    "    - тыкаем в него правой кнопкой и копируем как UTF-8 и вставляем в VSCode\n",
    "    - удаляем бинарный заголовок, сохраняем как Json\n",
    "    \n"
   ]
  },
  {
   "cell_type": "code",
   "execution_count": 15,
   "id": "0807af0f-d483-43df-9e02-105498adeffa",
   "metadata": {},
   "outputs": [],
   "source": [
    "import json\n",
    "import requests"
   ]
  },
  {
   "cell_type": "code",
   "execution_count": 9,
   "id": "23ef3055-8b03-4c98-9c48-99e59d731924",
   "metadata": {},
   "outputs": [],
   "source": [
    "f = open('chats-1.json')\n",
    "json_data = json.load(f)"
   ]
  },
  {
   "cell_type": "code",
   "execution_count": 10,
   "id": "5b4ba616-7bfe-49a0-b4ce-286194db248c",
   "metadata": {},
   "outputs": [
    {
     "data": {
      "text/plain": [
       "dict_keys(['Chats', 'RequestId', 'UnreadCount'])"
      ]
     },
     "execution_count": 10,
     "metadata": {},
     "output_type": "execute_result"
    }
   ],
   "source": [
    "json_data.keys()"
   ]
  },
  {
   "cell_type": "code",
   "execution_count": 12,
   "id": "60fe67c6-df77-4e3f-a2e6-f6b63666161b",
   "metadata": {},
   "outputs": [
    {
     "data": {
      "text/plain": [
       "695"
      ]
     },
     "execution_count": 12,
     "metadata": {},
     "output_type": "execute_result"
    }
   ],
   "source": [
    "len(json_data['Chats'])"
   ]
  },
  {
   "cell_type": "markdown",
   "id": "87b5f93c-83cc-484b-8bbd-ea1e3393e38c",
   "metadata": {},
   "source": [
    "695 чатов - охренеть!!!"
   ]
  },
  {
   "cell_type": "code",
   "execution_count": null,
   "id": "d6683bf5-88a1-4fe7-8584-7aabf458da0f",
   "metadata": {},
   "outputs": [],
   "source": [
    "# выведим первые три\n",
    "json_data['Chats'][:3]"
   ]
  },
  {
   "cell_type": "markdown",
   "id": "1e74755f-dea6-4796-924e-0f31a23280b3",
   "metadata": {},
   "source": [
    "## Выделяем запрос на удаление чата\n",
    "\n",
    "- Идем обрабнов в браузер, Инструменыт разработчика, можно очистить все что там налетело\n",
    "- Переключаемся на вкладку с Я.Мессенджер, выбираем чат который хотим удалить\n",
    "- Еще раз чистим историю в Инструментах разработчика, вкладка `Network`\n",
    "- Жмем правой кнопкой на чате и выбираем `Покинуть чат`\n",
    "- Ищем в `Neteork` запрос к `/api/`\n",
    "- Копируем как `cUrl`, получится что-то типа\n",
    "\n",
    "```bash\n",
    "curl 'https://yandex.ru/messenger/api/registry/api/' \\\n",
    "  -H 'authority: yandex.ru' \\\n",
    "  -H 'accept: application/json' \\\n",
    "  -H 'accept-language: ru-RU,ru;q=0.9,en-US;q=0.8,en;q=0.7' \\\n",
    "  ....\n",
    "  -H 'x-version: 5' \\\n",
    "  -H 'x-ya-organization-id: 0' \\\n",
    "  --data-raw $'------WebKitFormBoundaryOXyaKLjlkasd3\\r\\nContent-Disposition: form-data; name=\"request\"\\r\\n\\r\\n{\"method\":\"leave\",\"params\":{\"chat_id\":\"0/22/f98dac44-abcb-4403-a74c-c48697321355\",\"version\":1679644323701088}}\\r\\n------WebKitFormBoundaryOXyaKLjlkasd3--\\r\\n' \\\n",
    "  --compressed\n",
    "```\n",
    "- теперь нужно научиться формировать такие запросы для не нужных нам чатов. При этом не обязательно повторять все заголовки, но часть из них важные:\n",
    "    - authority: yandex.ru\n",
    "    - accept: application/json\n",
    "    - cookie: ...\n",
    "    - origin: https://yandex.ru\n",
    "    - referer: https://yandex.ru/chat\n",
    "    - x-csrf-token: ...\n",
    "    - x-request-id: 168027537453462328'\n",
    "\n",
    "POST запрос c данными:\n",
    "\n",
    "```json\n",
    "{\n",
    "    \"method\":\"leave\",\n",
    "    \"params\":{\n",
    "        \"chat_id\":\"0/22/f98dac44-abcb-4403-a74c-123456789009\",\n",
    "        \"version\":1679644323701088\n",
    "    }\n",
    "}\n",
    "```"
   ]
  },
  {
   "cell_type": "code",
   "execution_count": 28,
   "id": "300ef694-e536-47cc-8a2e-e3b0e16b292d",
   "metadata": {},
   "outputs": [],
   "source": [
    "# укажем параметры из заголовков\n",
    "cookie = 'yuidss=....'\n",
    "csrf_token = '....'"
   ]
  },
  {
   "cell_type": "code",
   "execution_count": null,
   "id": "599d8032-7cda-41dc-a907-dbaef46c9306",
   "metadata": {},
   "outputs": [],
   "source": [
    "import requests\n",
    "\n",
    "url = 'https://yandex.ru/messenger/api/registry/api/'\n",
    "headers = {'authority': 'yandex.ru',\n",
    "           'accept': 'application/json',\n",
    "           'accept-language': 'ru-RU,ru;q=0.9,en-US;q=0.8,en;q=0.7',\n",
    "           'cookie': cookie,\n",
    "           'x-csrf-token': csrf_token\n",
    "          }\n",
    "\n",
    "jdata = {\n",
    "    \"method\":\"leave\",\n",
    "    \"params\":{\n",
    "        \"chat_id\":\"0/22/f98dac44-abcb-4403-a74c-123456789009\",\n",
    "        \"version\":16796443453701088\n",
    "    }\n",
    "}\n",
    "\n",
    "x = requests.post(url, headers=headers, json = jdata)\n",
    "\n",
    "print(x.text)"
   ]
  },
  {
   "cell_type": "markdown",
   "id": "93c71ea5-84da-4989-b258-d8b84b1694a6",
   "metadata": {},
   "source": [
    "Опытным путем вычислил, что chat_id которые создаются Телемостом, начинаются с `0/22/`, **возможно у вас подругому**"
   ]
  },
  {
   "cell_type": "code",
   "execution_count": 43,
   "id": "99107ce9-4a25-429a-9389-911e94e3d0f2",
   "metadata": {},
   "outputs": [
    {
     "name": "stdout",
     "output_type": "stream",
     "text": [
      "483\n"
     ]
    }
   ],
   "source": [
    "# посчитаем сколько у нас чатов со встреч\n",
    "cnt = 0\n",
    "for chat in json_data['Chats']:\n",
    "    chat_id = chat['ChatId']\n",
    "    counters = chat['Counters']\n",
    "    if chat_id.startswith('0/22/'):\n",
    "        cnt += 1\n",
    "print(cnt)"
   ]
  },
  {
   "cell_type": "code",
   "execution_count": 44,
   "id": "089b26fe-389d-43b9-8b3b-1852ce601562",
   "metadata": {},
   "outputs": [
    {
     "data": {
      "text/plain": [
       "0.6949640287769784"
      ]
     },
     "execution_count": 44,
     "metadata": {},
     "output_type": "execute_result"
    }
   ],
   "source": [
    "483 / 695"
   ]
  },
  {
   "cell_type": "markdown",
   "id": "fee60483-6d2b-4cf5-8b51-f9a9bd9b67b0",
   "metadata": {},
   "source": [
    "Отфильтруем их и удалим"
   ]
  },
  {
   "cell_type": "code",
   "execution_count": null,
   "id": "146261a5-adc6-47d8-a302-7bea01e9d18e",
   "metadata": {},
   "outputs": [],
   "source": [
    "for chat in json_data['Chats']:\n",
    "    chat_id = chat['ChatId']\n",
    "    counters = chat['Counters']\n",
    "    if chat_id.startswith('0/22/'):\n",
    "        print(f'chat_id: {chat_id}, counters: {counters}')\n",
    "        jdata = {\n",
    "            \"method\":\"leave\",\n",
    "            \"params\":{\n",
    "                \"chat_id\": chat_id,\n",
    "                \"version\":1679644523701088\n",
    "            }\n",
    "        }        \n",
    "        x = requests.post(url, headers=headers, json = jdata)\n",
    "        print(x.text)"
   ]
  }
 ],
 "metadata": {
  "kernelspec": {
   "display_name": "Python 3 (ipykernel)",
   "language": "python",
   "name": "python3"
  },
  "language_info": {
   "codemirror_mode": {
    "name": "ipython",
    "version": 3
   },
   "file_extension": ".py",
   "mimetype": "text/x-python",
   "name": "python",
   "nbconvert_exporter": "python",
   "pygments_lexer": "ipython3",
   "version": "3.9.13"
  }
 },
 "nbformat": 4,
 "nbformat_minor": 5
}
